{
 "cells": [
  {
   "cell_type": "code",
   "execution_count": 503,
   "metadata": {},
   "outputs": [],
   "source": [
    "import pandas as pd\n",
    "from pandas import ExcelFile\n",
    "import datetime\n",
    "from datetime import date\n",
    "from datetime import datetime"
   ]
  },
  {
   "cell_type": "code",
   "execution_count": 504,
   "metadata": {},
   "outputs": [],
   "source": [
    "df_m = pd.read_excel(r'main_data.xlsx')\n",
    "df_l = pd.read_excel(r'log_register.xlsx')"
   ]
  },
  {
   "cell_type": "code",
   "execution_count": 505,
   "metadata": {},
   "outputs": [],
   "source": [
    "a = \"abc_123\"\n",
    "b = a.rsplit('_', 1)[1]"
   ]
  },
  {
   "cell_type": "code",
   "execution_count": 506,
   "metadata": {},
   "outputs": [
    {
     "name": "stdout",
     "output_type": "stream",
     "text": [
      "matched 0\n"
     ]
    }
   ],
   "source": [
    "\n",
    "for i in range(df_m.shape[0]):\n",
    "    \n",
    "    if(b == str(df_m.iloc[i,df_m.columns.get_loc('id')])):\n",
    "        \n",
    "        today = date.today()\n",
    "        now = datetime.now()\n",
    "        d3 = today.strftime(\"%Y-%m-%d\")\n",
    "        time = now.strftime(\"%H:%M:%S\")\n",
    "        \n",
    "        for j in range(df_l.shape[0]):\n",
    "            if(b == str(df_l.iloc[j,df_l.columns.get_loc('id')]) and (d3 == str((df_l.iloc[j,df_l.columns.get_loc('date')]).date()) and str(df_l.iloc[j,df_l.columns.get_loc('permission')]) == 'allowed')):\n",
    "                total_time=(datetime.strptime(time,'%H:%M:%S') - datetime.strptime(str(df_l.iloc[j,df_l.columns.get_loc('time')]),'%H:%M:%S'))\n",
    "                if(total_time.total_seconds() <= 120.0):\n",
    "                    break\n",
    "                \n",
    "                else:\n",
    "                    print ('matched', i)\n",
    "                    df_l = df_l.append({'id': df_m.iloc[i,df_m.columns.get_loc('id')], 'name': df_m.iloc[i,df_m.columns.get_loc('name')], 'number': df_m.iloc[i,df_m.columns.get_loc('number')], 'image': df_m.iloc[i,df_m.columns.get_loc('image')], 'permission': df_m.iloc[i,df_m.columns.get_loc('permission')], 'date': d3, 'time': time}, ignore_index=True)"
   ]
  },
  {
   "cell_type": "code",
   "execution_count": 507,
   "metadata": {},
   "outputs": [
    {
     "data": {
      "text/html": [
       "<div>\n",
       "<style scoped>\n",
       "    .dataframe tbody tr th:only-of-type {\n",
       "        vertical-align: middle;\n",
       "    }\n",
       "\n",
       "    .dataframe tbody tr th {\n",
       "        vertical-align: top;\n",
       "    }\n",
       "\n",
       "    .dataframe thead th {\n",
       "        text-align: right;\n",
       "    }\n",
       "</style>\n",
       "<table border=\"1\" class=\"dataframe\">\n",
       "  <thead>\n",
       "    <tr style=\"text-align: right;\">\n",
       "      <th></th>\n",
       "      <th>id</th>\n",
       "      <th>name</th>\n",
       "      <th>number</th>\n",
       "      <th>image</th>\n",
       "      <th>permission</th>\n",
       "      <th>date</th>\n",
       "      <th>time</th>\n",
       "    </tr>\n",
       "  </thead>\n",
       "  <tbody>\n",
       "    <tr>\n",
       "      <td>0</td>\n",
       "      <td>123</td>\n",
       "      <td>deepanshu</td>\n",
       "      <td>100</td>\n",
       "      <td>abc.com</td>\n",
       "      <td>allowed</td>\n",
       "      <td>2020-01-17 00:00:00</td>\n",
       "      <td>07:00:00</td>\n",
       "    </tr>\n",
       "    <tr>\n",
       "      <td>1</td>\n",
       "      <td>123</td>\n",
       "      <td>deepanshu</td>\n",
       "      <td>100</td>\n",
       "      <td>abc.com</td>\n",
       "      <td>allowed</td>\n",
       "      <td>2020-01-17</td>\n",
       "      <td>08:13:16</td>\n",
       "    </tr>\n",
       "  </tbody>\n",
       "</table>\n",
       "</div>"
      ],
      "text/plain": [
       "    id       name  number    image permission                 date      time\n",
       "0  123  deepanshu     100  abc.com    allowed  2020-01-17 00:00:00  07:00:00\n",
       "1  123  deepanshu     100  abc.com    allowed           2020-01-17  08:13:16"
      ]
     },
     "execution_count": 507,
     "metadata": {},
     "output_type": "execute_result"
    }
   ],
   "source": [
    "df_l"
   ]
  },
  {
   "cell_type": "code",
   "execution_count": null,
   "metadata": {},
   "outputs": [],
   "source": []
  }
 ],
 "metadata": {
  "kernelspec": {
   "display_name": "Python 3",
   "language": "python",
   "name": "python3"
  },
  "language_info": {
   "codemirror_mode": {
    "name": "ipython",
    "version": 3
   },
   "file_extension": ".py",
   "mimetype": "text/x-python",
   "name": "python",
   "nbconvert_exporter": "python",
   "pygments_lexer": "ipython3",
   "version": "3.6.9"
  }
 },
 "nbformat": 4,
 "nbformat_minor": 2
}
